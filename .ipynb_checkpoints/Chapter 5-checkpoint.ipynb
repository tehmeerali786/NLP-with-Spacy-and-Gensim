{
 "cells": [
  {
   "cell_type": "code",
   "execution_count": 13,
   "metadata": {},
   "outputs": [],
   "source": [
    "# Spacy for tagging\n",
    "import spacy\n",
    "nlp = spacy.load('en_core_web_sm')\n",
    "import random"
   ]
  },
  {
   "cell_type": "code",
   "execution_count": 6,
   "metadata": {},
   "outputs": [],
   "source": [
    "sent_0 = nlp(u'Mathieu and I went to the park.')\n",
    "sent_1 = nlp(u'If Clement was asked to take out the garbage, he would refuse.')\n",
    "sent_2 = nlp(u'Baptiste was in charge of the refuse treatment center.')\n",
    "sent_3 = nlp(u'Marie took out her rather suspicious and fishy cat to go fish for fish.')\n"
   ]
  },
  {
   "cell_type": "code",
   "execution_count": 7,
   "metadata": {},
   "outputs": [
    {
     "name": "stdout",
     "output_type": "stream",
     "text": [
      "Mathieu PROPN NNP\n",
      "and CCONJ CC\n",
      "I PRON PRP\n",
      "went VERB VBD\n",
      "to ADP IN\n",
      "the DET DT\n",
      "park NOUN NN\n",
      ". PUNCT .\n"
     ]
    }
   ],
   "source": [
    "for token in sent_0:\n",
    "    print(token.text, token.pos_, token.tag_)"
   ]
  },
  {
   "cell_type": "code",
   "execution_count": 8,
   "metadata": {},
   "outputs": [
    {
     "name": "stdout",
     "output_type": "stream",
     "text": [
      "If SCONJ IN\n",
      "Clement PROPN NNP\n",
      "was AUX VBD\n",
      "asked VERB VBN\n",
      "to PART TO\n",
      "take VERB VB\n",
      "out ADP RP\n",
      "the DET DT\n",
      "garbage NOUN NN\n",
      ", PUNCT ,\n",
      "he PRON PRP\n",
      "would VERB MD\n",
      "refuse VERB VB\n",
      ". PUNCT .\n"
     ]
    }
   ],
   "source": [
    "for token in sent_1:\n",
    "    print(token.text, token.pos_, token.tag_)"
   ]
  },
  {
   "cell_type": "code",
   "execution_count": 9,
   "metadata": {},
   "outputs": [],
   "source": [
    "# Training Named Entity Recognition\n",
    "\n",
    "TRAINING_DATA = [\n",
    "    (\"Facebook has been accused for leaking personal data of users.\", {'entities': [(0, 8, 'ORG')]}),\n",
    "    (\"Tinder uses sophisticated algorithms to find the perfect match.\", {'entities': [(0, 6, 'ORG')]})\n",
    "]"
   ]
  },
  {
   "cell_type": "code",
   "execution_count": 11,
   "metadata": {},
   "outputs": [],
   "source": [
    "nlp = spacy.blank('en')"
   ]
  },
  {
   "cell_type": "code",
   "execution_count": 14,
   "metadata": {},
   "outputs": [],
   "source": [
    "optimizer = nlp.begin_training()\n",
    "for i in range(20):\n",
    "    random.shuffle(TRAINING_DATA)\n",
    "    for text, annotations in TRAINING_DATA:\n",
    "        nlp.update([text], [annotations], sgd=optimizer)\n",
    "        \n",
    "nlp.to_disk('/model')"
   ]
  },
  {
   "cell_type": "code",
   "execution_count": 15,
   "metadata": {},
   "outputs": [],
   "source": [
    "# Training Part of Speech Tags\n",
    "from __future__ import unicode_literals, print_function"
   ]
  },
  {
   "cell_type": "code",
   "execution_count": 16,
   "metadata": {},
   "outputs": [],
   "source": [
    "import plac\n",
    "import random\n",
    "from pathlib import Path"
   ]
  },
  {
   "cell_type": "code",
   "execution_count": 17,
   "metadata": {},
   "outputs": [],
   "source": [
    "\"\"\"You need to define a mapping from your data's part-of-speech tag names to the Universal \n",
    "Part of Speech tag set, as Spacy includes an enum of these tags.\n",
    "See for the Universal Tag Set: \n",
    "http://universaldependencies.github.io/docs/u/pos/index.html \n",
    "\"\"\"\n",
    "\n",
    "TAG_MAP = {\n",
    "    \n",
    "    'N' : {'pos': 'NOUN'},\n",
    "    'V' : {'pos' : 'VERB'},\n",
    "    'J' : {'pos' : 'ADJ'}\n",
    "}"
   ]
  },
  {
   "cell_type": "code",
   "execution_count": 18,
   "metadata": {},
   "outputs": [],
   "source": [
    "\"\"\" \n",
    "    Usually you will read this in, of course. Data formats vary. Ensure your\n",
    "    strings are unicode and that the number of tags assigned matches spacy's\n",
    "    tokenization. If not, you can always add a 'words' key to the annotations\n",
    "    that specifies the gold-standard tokenization\n",
    "\n",
    "\"\"\"\n",
    "\n",
    "TRAIN_DATA = [\n",
    "    (\"I like green eggs\", {'tags': ['N', 'V', 'J', 'N']}),\n",
    "    (\"Eat blue eggs\", {'tag': ['V', 'J', 'N']})\n",
    "]"
   ]
  },
  {
   "cell_type": "code",
   "execution_count": 24,
   "metadata": {},
   "outputs": [],
   "source": [
    "@plac.annotations(\n",
    "\n",
    "    lang=(\"ISO Code of language to use\", \"option\", \"l\", str),\n",
    "    output_dir =(\"Optional output directory\", \"option\", \"o\", Path),\n",
    "    n_iter =(\"Number of training iterations\", \"option\", \"n\", int))\n",
    "def main(lang='en', output_dir=None, n_iter=25):\n",
    "    \"\"\"\n",
    "    Creat a new model. Set up the pipeline and train the tagger. In order to train the tagger \n",
    "    with custom tag map, we are creating a new language instance with custom vocab.\n",
    "    \n",
    "    \"\"\"\n",
    "    \n",
    "    nlp = spacy.blank(lang)\n",
    "    # add tagger to the pipeline\n",
    "    # nlp.create_pipe works for built-ins that are registered with spacy\n",
    "    tagger = nlp.create_pipe('tagger')\n",
    "    # Add the tags. This needs to be done before you start training.\n",
    "    for tag, values in TAG_MAP.items():\n",
    "        tagger.add_label(tag, values)\n",
    "    nlp.add_pipe(tagger)\n",
    "    \n",
    "    optimizer = nlp.begin_training()\n",
    "    for i in range(n_iter):\n",
    "        random.shuffle(TRAIN_DATA)\n",
    "        losses = {}\n",
    "        for text, annotations in TRAIN_DATA:\n",
    "            nlp.update([text], [annotations], sgd=optimizer, losses=losses)\n",
    "        print(losses)\n",
    "        \n",
    "    # test the trained model\n",
    "    test_text = \"I like blue eggs.\"\n",
    "    doc = nlp(test_text)\n",
    "    print('Tags', [(t.text, t.tag_, t.pos_) for t in doc])\n",
    "    \n",
    "    # save output model to directory\n",
    "    if output_dir is not None:\n",
    "        output_dir = Path(output_dir)\n",
    "        if not output_dir.exists():\n",
    "            output_dir.mkdir()\n",
    "        nlp.to_disk(output_dir)\n",
    "        print(\"Saved model to\", output_dir)\n",
    "        \n",
    "        # test the save model\n",
    "        print(\"Loading from\", output_dir)\n",
    "        nlp2 = spacy.load(output_dir)\n",
    "        doc = nlp2(test_text)\n",
    "        print(\"Tag\", [(t.text, t.tag_, t.pos_) for t in doc])\n",
    "    \n",
    "    \n",
    "    "
   ]
  },
  {
   "cell_type": "code",
   "execution_count": 25,
   "metadata": {},
   "outputs": [
    {
     "name": "stderr",
     "output_type": "stream",
     "text": [
      "usage: ipykernel_launcher.py [-h] [-l en] [-o None] [-n 25]\n",
      "ipykernel_launcher.py: error: unrecognized arguments: -f C:\\Users\\Tehmeer Ali Paryani\\AppData\\Roaming\\jupyter\\runtime\\kernel-ee86c63b-29fe-493b-ac28-691ea71e1189.json\n"
     ]
    },
    {
     "ename": "SystemExit",
     "evalue": "2",
     "output_type": "error",
     "traceback": [
      "An exception has occurred, use %tb to see the full traceback.\n",
      "\u001b[1;31mSystemExit\u001b[0m\u001b[1;31m:\u001b[0m 2\n"
     ]
    },
    {
     "name": "stderr",
     "output_type": "stream",
     "text": [
      "C:\\ProgramData\\Anaconda3\\lib\\site-packages\\IPython\\core\\interactiveshell.py:3339: UserWarning: To exit: use 'exit', 'quit', or Ctrl-D.\n",
      "  warn(\"To exit: use 'exit', 'quit', or Ctrl-D.\", stacklevel=1)\n"
     ]
    }
   ],
   "source": [
    "if __name__ == \"__main__\":\n",
    "    plac.call(main)"
   ]
  },
  {
   "cell_type": "code",
   "execution_count": 26,
   "metadata": {},
   "outputs": [
    {
     "name": "stderr",
     "output_type": "stream",
     "text": [
      "usage: ipykernel_launcher.py [-h] [-l en] [-o None] [-n 25]\n",
      "ipykernel_launcher.py: error: unrecognized arguments: -f C:\\Users\\Tehmeer Ali Paryani\\AppData\\Roaming\\jupyter\\runtime\\kernel-ee86c63b-29fe-493b-ac28-691ea71e1189.json\n"
     ]
    },
    {
     "ename": "SystemExit",
     "evalue": "2",
     "output_type": "error",
     "traceback": [
      "An exception has occurred, use %tb to see the full traceback.\n",
      "\u001b[1;31mSystemExit\u001b[0m\u001b[1;31m:\u001b[0m 2\n"
     ]
    }
   ],
   "source": [
    "@plac.annotations(\n",
    "    lang=(\"ISO Code of language to use\", \"option\", \"l\", str),\n",
    "    output_dir=(\"Optional output directory\", \"option\", \"o\", Path),\n",
    "    n_iter=(\"Number of training iterations\", \"option\", \"n\", int))\n",
    "def main(lang='en', output_dir=None, n_iter=25):\n",
    "    \"\"\"Create a new model, set up the pipeline and train the tagger. In order to\n",
    "    train the tagger with a custom tag map, we're creating a new Language\n",
    "    instance with a custom vocab.\n",
    "    \"\"\"\n",
    "    nlp = spacy.blank(lang)\n",
    "    # add the tagger to the pipeline\n",
    "    # nlp.create_pipe works for built-ins that are registered with spaCy\n",
    "    tagger = nlp.create_pipe('tagger')\n",
    "    # Add the tags. This needs to be done before you start training.\n",
    "    for tag, values in TAG_MAP.items():\n",
    "        tagger.add_label(tag, values)\n",
    "    nlp.add_pipe(tagger)\n",
    "\n",
    "    optimizer = nlp.begin_training()\n",
    "    for i in range(n_iter):\n",
    "        random.shuffle(TRAIN_DATA)\n",
    "        losses = {}\n",
    "        for text, annotations in TRAIN_DATA:\n",
    "            nlp.update([text], [annotations], sgd=optimizer, losses=losses)\n",
    "        print(losses)\n",
    "\n",
    "    # test the trained model\n",
    "    test_text = \"I like blue eggs\"\n",
    "    doc = nlp(test_text)\n",
    "    print('Tags', [(t.text, t.tag_, t.pos_) for t in doc])\n",
    "\n",
    "    # save model to output directory\n",
    "    if output_dir is not None:\n",
    "        output_dir = Path(output_dir)\n",
    "        if not output_dir.exists():\n",
    "            output_dir.mkdir()\n",
    "        nlp.to_disk(output_dir)\n",
    "        print(\"Saved model to\", output_dir)\n",
    "\n",
    "        # test the save model\n",
    "        print(\"Loading from\", output_dir)\n",
    "        nlp2 = spacy.load(output_dir)\n",
    "        doc = nlp2(test_text)\n",
    "        print('Tags', [(t.text, t.tag_, t.pos_) for t in doc])\n",
    "\n",
    "\n",
    "if __name__ == '__main__':\n",
    "    plac.call(main)"
   ]
  },
  {
   "cell_type": "code",
   "execution_count": 28,
   "metadata": {},
   "outputs": [
    {
     "name": "stdout",
     "output_type": "stream",
     "text": [
      "Tom RAN swiftly and WALKED slowly\n"
     ]
    }
   ],
   "source": [
    "# POS tagging example 1\n",
    "def make_verb_upper(text, pos):\n",
    "    return text.upper() if pos==\"VERB\" else text\n",
    "doc = nlp(u'Tom ran swiftly and walked slowly')\n",
    "text = ''.join(make_verb_upper(w.text_with_ws, w.pos_) for w in doc)\n",
    "print(text)"
   ]
  },
  {
   "cell_type": "code",
   "execution_count": 29,
   "metadata": {},
   "outputs": [],
   "source": [
    "# POS tagging example 2\n",
    "import pandas as pd\n",
    "\n",
    "harry_porter = open(\"HP1.txt\").read()\n",
    "hp = nlp(harry_porter)\n",
    "hpSents = list(hp.sents)\n",
    "hpSentenceLengths = [len(sent) for sent in hpSents]"
   ]
  },
  {
   "cell_type": "code",
   "execution_count": 30,
   "metadata": {},
   "outputs": [
    {
     "data": {
      "text/plain": [
       "[29,\n",
       " 28,\n",
       " 17,\n",
       " 23,\n",
       " 41,\n",
       " 20,\n",
       " 26,\n",
       " 17,\n",
       " 53,\n",
       " 19,\n",
       " 22,\n",
       " 26,\n",
       " 13,\n",
       " 30,\n",
       " 32,\n",
       " 15,\n",
       " 47,\n",
       " 1,\n",
       " 14,\n",
       " 14,\n",
       " 26,\n",
       " 25,\n",
       " 23,\n",
       " 8,\n",
       " 10,\n",
       " 10,\n",
       " 4,\n",
       " 21,\n",
       " 11,\n",
       " 16,\n",
       " 17,\n",
       " 24,\n",
       " 19,\n",
       " 29,\n",
       " 4,\n",
       " 21,\n",
       " 10,\n",
       " 24,\n",
       " 6,\n",
       " 39,\n",
       " 6,\n",
       " 23,\n",
       " 8,\n",
       " 26,\n",
       " 19,\n",
       " 19,\n",
       " 26,\n",
       " 9,\n",
       " 13,\n",
       " 15,\n",
       " 8,\n",
       " 13,\n",
       " 33,\n",
       " 11,\n",
       " 12,\n",
       " 8,\n",
       " 5,\n",
       " 8,\n",
       " 19,\n",
       " 30,\n",
       " 13,\n",
       " 13,\n",
       " 4,\n",
       " 23,\n",
       " 42,\n",
       " 14,\n",
       " 7,\n",
       " 8,\n",
       " 18,\n",
       " 5,\n",
       " 13,\n",
       " 8,\n",
       " 5,\n",
       " 2,\n",
       " 3,\n",
       " 22,\n",
       " 26,\n",
       " 40,\n",
       " 17,\n",
       " 19,\n",
       " 16,\n",
       " 42,\n",
       " 6,\n",
       " 7,\n",
       " 16,\n",
       " 15,\n",
       " 8,\n",
       " 9,\n",
       " 15,\n",
       " 4,\n",
       " 34,\n",
       " 16,\n",
       " 9,\n",
       " 10,\n",
       " 10,\n",
       " 18,\n",
       " 10,\n",
       " 6,\n",
       " 8,\n",
       " 7,\n",
       " 4,\n",
       " 13,\n",
       " 13,\n",
       " 11,\n",
       " 8,\n",
       " 24,\n",
       " 7,\n",
       " 51,\n",
       " 31,\n",
       " 16,\n",
       " 10,\n",
       " 3,\n",
       " 11,\n",
       " 14,\n",
       " 33,\n",
       " 24,\n",
       " 14,\n",
       " 19,\n",
       " 10,\n",
       " 9,\n",
       " 6,\n",
       " 5,\n",
       " 10,\n",
       " 10,\n",
       " 14,\n",
       " 5,\n",
       " 9,\n",
       " 7,\n",
       " 1,\n",
       " 5,\n",
       " 14,\n",
       " 13,\n",
       " 14,\n",
       " 8,\n",
       " 4,\n",
       " 12,\n",
       " 1,\n",
       " 2,\n",
       " 4,\n",
       " 15,\n",
       " 1,\n",
       " 8,\n",
       " 7,\n",
       " 9,\n",
       " 3,\n",
       " 3,\n",
       " 1,\n",
       " 10,\n",
       " 18,\n",
       " 7,\n",
       " 29,\n",
       " 12,\n",
       " 7,\n",
       " 7,\n",
       " 3,\n",
       " 11,\n",
       " 16,\n",
       " 7,\n",
       " 18,\n",
       " 24,\n",
       " 6,\n",
       " 15,\n",
       " 5,\n",
       " 12,\n",
       " 4,\n",
       " 14,\n",
       " 11,\n",
       " 6,\n",
       " 20,\n",
       " 34,\n",
       " 17,\n",
       " 33,\n",
       " 6,\n",
       " 27,\n",
       " 22,\n",
       " 25,\n",
       " 14,\n",
       " 17,\n",
       " 5,\n",
       " 10,\n",
       " 10,\n",
       " 13,\n",
       " 32,\n",
       " 23,\n",
       " 36,\n",
       " 8,\n",
       " 28,\n",
       " 12,\n",
       " 36,\n",
       " 14,\n",
       " 13,\n",
       " 13,\n",
       " 9,\n",
       " 17,\n",
       " 11,\n",
       " 13,\n",
       " 38,\n",
       " 33,\n",
       " 34,\n",
       " 17,\n",
       " 9,\n",
       " 14,\n",
       " 23,\n",
       " 9,\n",
       " 13,\n",
       " 11,\n",
       " 5,\n",
       " 10,\n",
       " 3,\n",
       " 17,\n",
       " 23,\n",
       " 1,\n",
       " 3,\n",
       " 7,\n",
       " 16,\n",
       " 5,\n",
       " 1,\n",
       " 16,\n",
       " 26,\n",
       " 6,\n",
       " 17,\n",
       " 5,\n",
       " 5,\n",
       " 3,\n",
       " 8,\n",
       " 8,\n",
       " 14,\n",
       " 7,\n",
       " 13,\n",
       " 14,\n",
       " 11,\n",
       " 12,\n",
       " 25,\n",
       " 34,\n",
       " 1,\n",
       " 7,\n",
       " 25,\n",
       " 10,\n",
       " 10,\n",
       " 10,\n",
       " 9,\n",
       " 5,\n",
       " 5,\n",
       " 8,\n",
       " 33,\n",
       " 35,\n",
       " 3,\n",
       " 2,\n",
       " 1,\n",
       " 27,\n",
       " 20,\n",
       " 18,\n",
       " 16,\n",
       " 19,\n",
       " 6,\n",
       " 8,\n",
       " 3,\n",
       " 12,\n",
       " 11,\n",
       " 10,\n",
       " 16,\n",
       " 8,\n",
       " 12,\n",
       " 6,\n",
       " 1,\n",
       " 26,\n",
       " 7,\n",
       " 7,\n",
       " 6,\n",
       " 1,\n",
       " 58,\n",
       " 20,\n",
       " 7,\n",
       " 15,\n",
       " 25,\n",
       " 7,\n",
       " 20,\n",
       " 5,\n",
       " 4,\n",
       " 1,\n",
       " 4,\n",
       " 7,\n",
       " 8,\n",
       " 4,\n",
       " 7,\n",
       " 5,\n",
       " 12,\n",
       " 7,\n",
       " 4,\n",
       " 6,\n",
       " 14,\n",
       " 7,\n",
       " 8,\n",
       " 37,\n",
       " 4,\n",
       " 9,\n",
       " 4,\n",
       " 1,\n",
       " 7,\n",
       " 7,\n",
       " 8,\n",
       " 5,\n",
       " 9,\n",
       " 12,\n",
       " 11,\n",
       " 7,\n",
       " 17,\n",
       " 19,\n",
       " 7,\n",
       " 19,\n",
       " 27,\n",
       " 19,\n",
       " 8,\n",
       " 1,\n",
       " 22,\n",
       " 13,\n",
       " 12,\n",
       " 32,\n",
       " 7,\n",
       " 9,\n",
       " 12,\n",
       " 8,\n",
       " 17,\n",
       " 9,\n",
       " 14,\n",
       " 1,\n",
       " 18,\n",
       " 8,\n",
       " 5,\n",
       " 14,\n",
       " 16,\n",
       " 7,\n",
       " 9,\n",
       " 37,\n",
       " 21,\n",
       " 13,\n",
       " 8,\n",
       " 9,\n",
       " 1,\n",
       " 25,\n",
       " 1,\n",
       " 30,\n",
       " 10,\n",
       " 1,\n",
       " 18,\n",
       " 1,\n",
       " 6,\n",
       " 32,\n",
       " 32,\n",
       " 10,\n",
       " 12,\n",
       " 54,\n",
       " 17,\n",
       " 19,\n",
       " 14,\n",
       " 21,\n",
       " 16,\n",
       " 15,\n",
       " 10,\n",
       " 1,\n",
       " 3,\n",
       " 10,\n",
       " 24,\n",
       " 1,\n",
       " 8,\n",
       " 8,\n",
       " 9,\n",
       " 19,\n",
       " 7,\n",
       " 11,\n",
       " 1,\n",
       " 13,\n",
       " 14,\n",
       " 26,\n",
       " 1,\n",
       " 5,\n",
       " 5,\n",
       " 8,\n",
       " 9,\n",
       " 12,\n",
       " 11,\n",
       " 6,\n",
       " 19,\n",
       " 16,\n",
       " 1,\n",
       " 16,\n",
       " 19,\n",
       " 24,\n",
       " 15,\n",
       " 4,\n",
       " 12,\n",
       " 27,\n",
       " 10,\n",
       " 5,\n",
       " 13,\n",
       " 55,\n",
       " 34,\n",
       " 45,\n",
       " 1,\n",
       " 5,\n",
       " 8,\n",
       " 7,\n",
       " 12,\n",
       " 24,\n",
       " 10,\n",
       " 1,\n",
       " 38,\n",
       " 22,\n",
       " 8,\n",
       " 10,\n",
       " 14,\n",
       " 23,\n",
       " 2,\n",
       " 21,\n",
       " 16,\n",
       " 10,\n",
       " 17,\n",
       " 34,\n",
       " 12,\n",
       " 77,\n",
       " 42]"
      ]
     },
     "execution_count": 30,
     "metadata": {},
     "output_type": "execute_result"
    }
   ],
   "source": [
    "hpSentenceLengths"
   ]
  },
  {
   "cell_type": "code",
   "execution_count": 31,
   "metadata": {},
   "outputs": [
    {
     "data": {
      "text/plain": [
       "[One small hand closed on the letter beside him and he slept on, not knowing he was\n",
       " special, not knowing he was famous, not knowing he would be woken in a few hours' time by Mrs.\n",
       " Dursley's scream as she opened the front door to put out the milk bottles, nor that he would spend\n",
       " the next few weeks being prodded and pinched by his cousin Dudley...]"
      ]
     },
     "execution_count": 31,
     "metadata": {},
     "output_type": "execute_result"
    }
   ],
   "source": [
    "[sent for sent in hpSents if len(sent) == max(hpSentenceLengths)]"
   ]
  },
  {
   "cell_type": "code",
   "execution_count": 33,
   "metadata": {},
   "outputs": [],
   "source": [
    "hpPOS = pd.Series(hp.count_by(spacy.attrs.POS))"
   ]
  },
  {
   "cell_type": "code",
   "execution_count": 32,
   "metadata": {},
   "outputs": [
    {
     "data": {
      "text/plain": [
       "{96: 386,\n",
       " 89: 142,\n",
       " 97: 969,\n",
       " 85: 437,\n",
       " 92: 646,\n",
       " 93: 27,\n",
       " 87: 360,\n",
       " 84: 311,\n",
       " 94: 158,\n",
       " 100: 754,\n",
       " 98: 122,\n",
       " 95: 539,\n",
       " 86: 318,\n",
       " 103: 265,\n",
       " 90: 547,\n",
       " 91: 28}"
      ]
     },
     "execution_count": 32,
     "metadata": {},
     "output_type": "execute_result"
    }
   ],
   "source": [
    "hp.count_by(spacy.attrs.POS)"
   ]
  },
  {
   "cell_type": "code",
   "execution_count": 34,
   "metadata": {},
   "outputs": [
    {
     "data": {
      "text/plain": [
       "96     386\n",
       "89     142\n",
       "97     969\n",
       "85     437\n",
       "92     646\n",
       "93      27\n",
       "87     360\n",
       "84     311\n",
       "94     158\n",
       "100    754\n",
       "98     122\n",
       "95     539\n",
       "86     318\n",
       "103    265\n",
       "90     547\n",
       "91      28\n",
       "dtype: int64"
      ]
     },
     "execution_count": 34,
     "metadata": {},
     "output_type": "execute_result"
    }
   ],
   "source": [
    "hpPOS"
   ]
  },
  {
   "cell_type": "code",
   "execution_count": 35,
   "metadata": {},
   "outputs": [],
   "source": [
    "hpPOS = pd.Series(hp.count_by(spacy.attrs.POS))/len(hp)"
   ]
  },
  {
   "cell_type": "code",
   "execution_count": 36,
   "metadata": {},
   "outputs": [
    {
     "data": {
      "text/plain": [
       "96     0.064237\n",
       "89     0.023631\n",
       "97     0.161258\n",
       "85     0.072724\n",
       "92     0.107505\n",
       "93     0.004493\n",
       "87     0.059910\n",
       "84     0.051756\n",
       "94     0.026294\n",
       "100    0.125478\n",
       "98     0.020303\n",
       "95     0.089699\n",
       "86     0.052921\n",
       "103    0.044101\n",
       "90     0.091030\n",
       "91     0.004660\n",
       "dtype: float64"
      ]
     },
     "execution_count": 36,
     "metadata": {},
     "output_type": "execute_result"
    }
   ],
   "source": [
    "hpPOS"
   ]
  },
  {
   "cell_type": "code",
   "execution_count": 37,
   "metadata": {},
   "outputs": [],
   "source": [
    "tagDict = {w.pos: w.pos_ for w in hp}"
   ]
  },
  {
   "cell_type": "code",
   "execution_count": 38,
   "metadata": {},
   "outputs": [
    {
     "data": {
      "text/plain": [
       "{96: 'PROPN',\n",
       " 89: 'CCONJ',\n",
       " 97: 'PUNCT',\n",
       " 85: 'ADP',\n",
       " 92: 'NOUN',\n",
       " 93: 'NUM',\n",
       " 87: 'AUX',\n",
       " 84: 'ADJ',\n",
       " 94: 'PART',\n",
       " 100: 'VERB',\n",
       " 98: 'SCONJ',\n",
       " 95: 'PRON',\n",
       " 86: 'ADV',\n",
       " 103: 'SPACE',\n",
       " 90: 'DET',\n",
       " 91: 'INTJ'}"
      ]
     },
     "execution_count": 38,
     "metadata": {},
     "output_type": "execute_result"
    }
   ],
   "source": [
    "tagDict"
   ]
  },
  {
   "cell_type": "code",
   "execution_count": 39,
   "metadata": {},
   "outputs": [],
   "source": [
    "df = pd.DataFrame([hpPOS], index=['Harry Porter'])"
   ]
  },
  {
   "cell_type": "code",
   "execution_count": 40,
   "metadata": {},
   "outputs": [
    {
     "data": {
      "text/html": [
       "<div>\n",
       "<style scoped>\n",
       "    .dataframe tbody tr th:only-of-type {\n",
       "        vertical-align: middle;\n",
       "    }\n",
       "\n",
       "    .dataframe tbody tr th {\n",
       "        vertical-align: top;\n",
       "    }\n",
       "\n",
       "    .dataframe thead th {\n",
       "        text-align: right;\n",
       "    }\n",
       "</style>\n",
       "<table border=\"1\" class=\"dataframe\">\n",
       "  <thead>\n",
       "    <tr style=\"text-align: right;\">\n",
       "      <th></th>\n",
       "      <th>96</th>\n",
       "      <th>89</th>\n",
       "      <th>97</th>\n",
       "      <th>85</th>\n",
       "      <th>92</th>\n",
       "      <th>93</th>\n",
       "      <th>87</th>\n",
       "      <th>84</th>\n",
       "      <th>94</th>\n",
       "      <th>100</th>\n",
       "      <th>98</th>\n",
       "      <th>95</th>\n",
       "      <th>86</th>\n",
       "      <th>103</th>\n",
       "      <th>90</th>\n",
       "      <th>91</th>\n",
       "    </tr>\n",
       "  </thead>\n",
       "  <tbody>\n",
       "    <tr>\n",
       "      <th>Harry Porter</th>\n",
       "      <td>0.064237</td>\n",
       "      <td>0.023631</td>\n",
       "      <td>0.161258</td>\n",
       "      <td>0.072724</td>\n",
       "      <td>0.107505</td>\n",
       "      <td>0.004493</td>\n",
       "      <td>0.05991</td>\n",
       "      <td>0.051756</td>\n",
       "      <td>0.026294</td>\n",
       "      <td>0.125478</td>\n",
       "      <td>0.020303</td>\n",
       "      <td>0.089699</td>\n",
       "      <td>0.052921</td>\n",
       "      <td>0.044101</td>\n",
       "      <td>0.09103</td>\n",
       "      <td>0.00466</td>\n",
       "    </tr>\n",
       "  </tbody>\n",
       "</table>\n",
       "</div>"
      ],
      "text/plain": [
       "                   96        89        97        85        92        93   \\\n",
       "Harry Porter  0.064237  0.023631  0.161258  0.072724  0.107505  0.004493   \n",
       "\n",
       "                  87        84        94        100       98        95   \\\n",
       "Harry Porter  0.05991  0.051756  0.026294  0.125478  0.020303  0.089699   \n",
       "\n",
       "                   86        103      90       91   \n",
       "Harry Porter  0.052921  0.044101  0.09103  0.00466  "
      ]
     },
     "execution_count": 40,
     "metadata": {},
     "output_type": "execute_result"
    }
   ],
   "source": [
    "df.head()"
   ]
  },
  {
   "cell_type": "code",
   "execution_count": 41,
   "metadata": {},
   "outputs": [],
   "source": [
    "df.columns = [tagDict[column] for column in df.columns]"
   ]
  },
  {
   "cell_type": "code",
   "execution_count": 42,
   "metadata": {},
   "outputs": [
    {
     "data": {
      "text/plain": [
       "<matplotlib.axes._subplots.AxesSubplot at 0x20ac59b8c48>"
      ]
     },
     "execution_count": 42,
     "metadata": {},
     "output_type": "execute_result"
    },
    {
     "data": {
      "image/png": "[encoded data removed]",
      "text/plain": [
       "<Figure size 432x288 with 1 Axes>"
      ]
     },
     "metadata": {
      "needs_background": "light"
     },
     "output_type": "display_data"
    }
   ],
   "source": [
    "df.T.plot(kind='bar')"
   ]
  },
  {
   "cell_type": "code",
   "execution_count": 45,
   "metadata": {},
   "outputs": [
    {
     "data": {
      "text/plain": [
       "[('he', 102),\n",
       " ('it', 58),\n",
       " ('He', 54),\n",
       " ('I', 46),\n",
       " ('you', 33),\n",
       " ('It', 28),\n",
       " ('him', 26),\n",
       " ('they', 25),\n",
       " ('she', 20),\n",
       " ('them', 17)]"
      ]
     },
     "execution_count": 45,
     "metadata": {},
     "output_type": "execute_result"
    }
   ],
   "source": [
    "# POS tagging example 3\n",
    "import collections\n",
    "\n",
    "hpAdjs = [w for w in hp if w.pos_ == 'PRON']\n",
    "collections.Counter([w.string.strip() for w in hpAdjs]).most_common(10)"
   ]
  },
  {
   "cell_type": "code",
   "execution_count": null,
   "metadata": {},
   "outputs": [],
   "source": []
  }
 ],
 "metadata": {
  "kernelspec": {
   "display_name": "Python 3",
   "language": "python",
   "name": "python3"
  },
  "language_info": {
   "codemirror_mode": {
    "name": "ipython",
    "version": 3
   },
   "file_extension": ".py",
   "mimetype": "text/x-python",
   "name": "python",
   "nbconvert_exporter": "python",
   "pygments_lexer": "ipython3",
   "version": "3.7.6"
  }
 },
 "nbformat": 4,
 "nbformat_minor": 4
}
