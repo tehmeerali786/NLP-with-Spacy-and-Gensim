{
 "cells": [
  {
   "cell_type": "code",
   "execution_count": 1,
   "metadata": {},
   "outputs": [],
   "source": [
    "# Spacy for Named Entity Recognization\n",
    "import spacy \n",
    "nlp = spacy.load('en_core_web_sm')"
   ]
  },
  {
   "cell_type": "code",
   "execution_count": 2,
   "metadata": {},
   "outputs": [],
   "source": [
    "sent_0 = nlp(u'Donald Trump visited at the government headquarters in France today.')"
   ]
  },
  {
   "cell_type": "code",
   "execution_count": 3,
   "metadata": {},
   "outputs": [],
   "source": [
    "sent_1 = nlp(u'Emmanuel Jean-Michel Frédéric Macron is a French politician serving as President of France and ex officio Co-Prince of Andorra since 14 May 2017.')\n",
    "\n",
    "sent_2 = nlp(u'He studied philosophy at Paris Nanterre University, completed a Master’s of Public Affairs at Sciences Po, and graduated from the École nationale d\\'administration (ÉNA) in 2004. ')\n",
    "\n",
    "sent_3 = nlp(u'He worked at the Inspectorate General of Finances, and later became an investment banker at Rothschild & Cie Banque.')"
   ]
  },
  {
   "cell_type": "code",
   "execution_count": 4,
   "metadata": {},
   "outputs": [
    {
     "name": "stdout",
     "output_type": "stream",
     "text": [
      "Donald PERSON\n",
      "Trump PERSON\n",
      "visited \n",
      "at \n",
      "the \n",
      "government \n",
      "headquarters \n",
      "in \n",
      "France GPE\n",
      "today DATE\n",
      ". \n"
     ]
    }
   ],
   "source": [
    "for token in sent_0:\n",
    "    print(token.text, token.ent_type_)"
   ]
  },
  {
   "cell_type": "code",
   "execution_count": 6,
   "metadata": {},
   "outputs": [
    {
     "name": "stdout",
     "output_type": "stream",
     "text": [
      "Emmanuel PERSON\n",
      "Jean PERSON\n",
      "- PERSON\n",
      "Michel PERSON\n",
      "Frédéric PERSON\n",
      "Macron PERSON\n",
      "is \n",
      "a \n",
      "French NORP\n",
      "politician \n",
      "serving \n",
      "as \n",
      "President \n",
      "of \n",
      "France GPE\n",
      "and \n",
      "ex \n",
      "officio \n",
      "Co PERSON\n",
      "- PERSON\n",
      "Prince PERSON\n",
      "of \n",
      "Andorra ORG\n",
      "since \n",
      "14 DATE\n",
      "May DATE\n",
      "2017 DATE\n",
      ". \n"
     ]
    }
   ],
   "source": [
    "for token in sent_1:\n",
    "    print(token.text, token.ent_type_)"
   ]
  },
  {
   "cell_type": "code",
   "execution_count": 7,
   "metadata": {},
   "outputs": [
    {
     "name": "stdout",
     "output_type": "stream",
     "text": [
      "He \n",
      "studied \n",
      "philosophy \n",
      "at \n",
      "Paris ORG\n",
      "Nanterre ORG\n",
      "University ORG\n",
      ", \n",
      "completed \n",
      "a \n",
      "Master \n",
      "’s \n",
      "of \n",
      "Public \n",
      "Affairs \n",
      "at \n",
      "Sciences FAC\n",
      "Po FAC\n",
      ", \n",
      "and \n",
      "graduated \n",
      "from \n",
      "the \n",
      "École ORG\n",
      "nationale \n",
      "d'administration \n",
      "( \n",
      "ÉNA ORG\n",
      ") \n",
      "in \n",
      "2004 DATE\n",
      ". \n"
     ]
    }
   ],
   "source": [
    "for token in sent_2:\n",
    "    print(token.text, token.ent_type_)"
   ]
  },
  {
   "cell_type": "code",
   "execution_count": 8,
   "metadata": {},
   "outputs": [
    {
     "name": "stdout",
     "output_type": "stream",
     "text": [
      "He \n",
      "worked \n",
      "at \n",
      "the FAC\n",
      "Inspectorate FAC\n",
      "General FAC\n",
      "of FAC\n",
      "Finances FAC\n",
      ", \n",
      "and \n",
      "later \n",
      "became \n",
      "an \n",
      "investment \n",
      "banker \n",
      "at \n",
      "Rothschild ORG\n",
      "& ORG\n",
      "Cie ORG\n",
      "Banque ORG\n",
      ". \n"
     ]
    }
   ],
   "source": [
    "for token in sent_3:\n",
    "    print(token.text, token.ent_type_)"
   ]
  },
  {
   "cell_type": "code",
   "execution_count": 9,
   "metadata": {},
   "outputs": [
    {
     "name": "stdout",
     "output_type": "stream",
     "text": [
      "Donald Trump PERSON\n",
      "France GPE\n",
      "today DATE\n"
     ]
    }
   ],
   "source": [
    "for ent in sent_0.ents:\n",
    "    print(ent.text, ent.label_)"
   ]
  },
  {
   "cell_type": "code",
   "execution_count": 10,
   "metadata": {},
   "outputs": [
    {
     "name": "stdout",
     "output_type": "stream",
     "text": [
      "Emmanuel Jean-Michel Frédéric Macron PERSON\n",
      "French NORP\n",
      "France GPE\n",
      "Co-Prince PERSON\n",
      "Andorra ORG\n",
      "14 May 2017 DATE\n"
     ]
    }
   ],
   "source": [
    "for ent in sent_1.ents:\n",
    "    print(ent.text, ent.label_)"
   ]
  },
  {
   "cell_type": "code",
   "execution_count": 11,
   "metadata": {},
   "outputs": [
    {
     "name": "stdout",
     "output_type": "stream",
     "text": [
      "Paris Nanterre University ORG\n",
      "Sciences Po FAC\n",
      "École ORG\n",
      "ÉNA ORG\n",
      "2004 DATE\n"
     ]
    }
   ],
   "source": [
    "for ent in sent_2.ents:\n",
    "    print(ent.text, ent.label_)"
   ]
  },
  {
   "cell_type": "code",
   "execution_count": 12,
   "metadata": {},
   "outputs": [
    {
     "name": "stdout",
     "output_type": "stream",
     "text": [
      "the Inspectorate General of Finances FAC\n",
      "Rothschild & Cie Banque ORG\n"
     ]
    }
   ],
   "source": [
    "for ent in sent_3.ents:\n",
    "    print(ent.text, ent.label_)"
   ]
  },
  {
   "cell_type": "code",
   "execution_count": null,
   "metadata": {},
   "outputs": [],
   "source": [
    "# run this code seperately\n",
    "\n",
    "from __future__ import unicode_literals, print_function\n"
   ]
  }
 ],
 "metadata": {
  "kernelspec": {
   "display_name": "Python 3",
   "language": "python",
   "name": "python3"
  },
  "language_info": {
   "codemirror_mode": {
    "name": "ipython",
    "version": 3
   },
   "file_extension": ".py",
   "mimetype": "text/x-python",
   "name": "python",
   "nbconvert_exporter": "python",
   "pygments_lexer": "ipython3",
   "version": "3.7.6"
  }
 },
 "nbformat": 4,
 "nbformat_minor": 4
}
